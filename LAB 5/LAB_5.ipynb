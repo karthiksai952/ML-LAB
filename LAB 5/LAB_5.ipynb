{
  "nbformat": 4,
  "nbformat_minor": 0,
  "metadata": {
    "colab": {
      "name": "Untitled7.ipynb",
      "provenance": []
    },
    "kernelspec": {
      "name": "python3",
      "display_name": "Python 3"
    },
    "language_info": {
      "name": "python"
    }
  },
  "cells": [
    {
      "cell_type": "code",
      "execution_count": 12,
      "metadata": {
        "colab": {
          "base_uri": "https://localhost:8080/"
        },
        "id": "QEC_V2rPcXXm",
        "outputId": "b61e3c24-d568-4635-869e-64070863d0c4"
      },
      "outputs": [
        {
          "output_type": "stream",
          "name": "stdout",
          "text": [
            "<bound method NDFrame.head of      num_preg  glucose_conc  diastolic_bp  thickness  insulin   bmi  \\\n",
            "0           6           148            72         35        0  33.6   \n",
            "1           1            85            66         29        0  26.6   \n",
            "2           8           183            64          0        0  23.3   \n",
            "3           1            89            66         23       94  28.1   \n",
            "4           0           137            40         35      168  43.1   \n",
            "..        ...           ...           ...        ...      ...   ...   \n",
            "140         3           128            78          0        0  21.1   \n",
            "141         5           106            82         30        0  39.5   \n",
            "142         2           108            52         26       63  32.5   \n",
            "143        10           108            66          0        0  32.4   \n",
            "144         4           154            62         31      284  32.8   \n",
            "\n",
            "     diab_pred  age  diabetes  \n",
            "0        0.627   50         1  \n",
            "1        0.351   31         0  \n",
            "2        0.672   32         1  \n",
            "3        0.167   21         0  \n",
            "4        2.288   33         1  \n",
            "..         ...  ...       ...  \n",
            "140      0.268   55         0  \n",
            "141      0.286   38         0  \n",
            "142      0.318   22         0  \n",
            "143      0.272   42         1  \n",
            "144      0.237   23         0  \n",
            "\n",
            "[145 rows x 9 columns]>\n",
            "\n",
            " the total number of Training Data : (87, 1)\n",
            "\n",
            " the total number of Test Data : (58, 1)\n",
            "\n",
            " Confusion matrix\n",
            "[[23 13]\n",
            " [11 11]]\n",
            "\n",
            " Accuracy of the classifier is 0.5862068965517241\n",
            "\n",
            " The value of Precision 0.4583333333333333\n",
            "\n",
            " The value of Recall 0.5\n",
            "Predicted Value for individual Test Data: [1]\n"
          ]
        }
      ],
      "source": [
        "import pandas as pd\n",
        "from sklearn.model_selection import train_test_split\n",
        "from sklearn.naive_bayes import GaussianNB\n",
        "from sklearn import metrics\n",
        "\n",
        "df = pd.read_csv(\"diabetes.csv\")\n",
        "feature_col_names = ['num_preg', 'glucose_conc', 'diastolic_bp', 'thickness', 'insulin', 'bmi', 'diab_pred', 'age']\n",
        "predicted_class_names = ['diabetes']\n",
        "\n",
        "X = df[feature_col_names].values \n",
        "y = df[predicted_class_names].values\n",
        "\n",
        "print(df.head)\n",
        "xtrain,xtest,ytrain,ytest=train_test_split(X,y,test_size=0.40)\n",
        "\n",
        "print ('\\n the total number of Training Data :',ytrain.shape)\n",
        "print ('\\n the total number of Test Data :',ytest.shape)\n",
        "\n",
        "clf = GaussianNB().fit(xtrain,ytrain.ravel())\n",
        "predicted = clf.predict(xtest)\n",
        "predictTestData= clf.predict([[6,148,72,35,0,33.6,0.627,50]])\n",
        "\n",
        "print('\\n Confusion matrix')\n",
        "print(metrics.confusion_matrix(ytest,predicted))\n",
        "\n",
        "print('\\n Accuracy of the classifier is',metrics.accuracy_score(ytest,predicted))\n",
        "\n",
        "print('\\n The value of Precision', metrics.precision_score(ytest,predicted))\n",
        "\n",
        "print('\\n The value of Recall', metrics.recall_score(ytest,predicted))\n",
        "\n",
        "print(\"Predicted Value for individual Test Data:\", predictTestData)"
      ]
    },
    {
      "cell_type": "code",
      "source": [
        "from google.colab import drive\n",
        "drive.mount('/content/drive')"
      ],
      "metadata": {
        "id": "TVccsS_Ql23X"
      },
      "execution_count": null,
      "outputs": []
    }
  ]
}